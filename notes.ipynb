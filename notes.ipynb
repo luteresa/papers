{
 "cells": [
  {
   "cell_type": "markdown",
   "metadata": {},
   "source": [
    "# 1.论文分类\n",
    "\n",
    "## 按类别分：\n",
    "\n",
    "1.**综述论文**：快速熟悉某领域现状及子方向，了解基础概念，适合入门；\n",
    "\n",
    "2.**专题论文**：介绍具体算法，设计思路，实验技巧，代码实现等具体技术；\n",
    "\n",
    "进入一个新领域，先阅读综述论文，再读专题论文；\n",
    "\n",
    "\n",
    "## 从论文质量角度：\n",
    "\n",
    "**高质量期刊会议**：CVPR,ECCV,ICCV,AAAI,NIPS,ICLR,ICML等；\n",
    "\n",
    "**高引论文**：同行间普遍认可，参考，借鉴的论文；\n",
    "\n",
    "**知名团队**：YoshuaBengio,YannLeCun，Geoffrey Hinto, Andrew Ng等；\n",
    "\n",
    "**有代码复现论文**：\"Talk is cheap, Show me the code.\"\n",
    "\n",
    "一个有代码复现的论文网站：\n",
    "https://www.paperswithcode.com/"
   ]
  },
  {
   "cell_type": "markdown",
   "metadata": {},
   "source": [
    "\n",
    "# 2.如何找论文：\n",
    "\n",
    "1.知网：寻找优秀综述论文，快速入门；\n",
    "\n",
    "2.百度学术，google scholar\n",
    "\n",
    "3.arXiv:论文预印本\n",
    "\n",
    "https://arxiv.org/\n",
    "\n",
    "4.顶会：CVPR, ECCV,ICCV,AAAI,NIPS,ICLR,ICML\n",
    "\n",
    "观察一篇论文是否优质：\n",
    "\n",
    "IF(IMPACT fACTOR,影响因子)\n",
    "\n",
    "JCR(Journal Citation Reports）\n",
    "\n",
    "SCI期刊分区：\n",
    "\n",
    "JCR方式（国际通用）：一、二、三、四区各占25%；\n",
    "\n",
    "中科院（国内）：一区(5%),二区(5%~20%)，三区(20%~50%)，四区(50%);"
   ]
  },
  {
   "cell_type": "markdown",
   "metadata": {},
   "source": [
    "5.sci-hub:**一个能绕过科研论文收费的神奇网站**\n",
    "\n",
    "https://sci-hub.tw\n",
    "\n",
    "https://sci-hub.si\n",
    "\n",
    "https://sci-hub.se\n",
    "\n",
    "PMID:PubMed唯一标识码\n",
    "\n",
    "DOI：数字对象唯一标识吗"
   ]
  },
  {
   "cell_type": "markdown",
   "metadata": {},
   "source": [
    "百度学术 文献互助： http://xueshu.baidu.com"
   ]
  },
  {
   "cell_type": "markdown",
   "metadata": {},
   "source": [
    "# 3.整理论文：\n",
    "\n",
    "时间-作者-题名   时间-关键字-题名\n",
    "\n",
    "paper不多时可以这样整理，数量太大时，用软件管理\n",
    "\n"
   ]
  },
  {
   "cell_type": "markdown",
   "metadata": {},
   "source": [
    "# 4.如何读论文\n",
    "\n",
    "读论文常遇到的问题：重点，关键点难把握；论文关系复杂；公式图标难懂；难以坚持；借鉴算法为主，注重算法实现；"
   ]
  },
  {
   "cell_type": "markdown",
   "metadata": {},
   "source": [
    "## 读论文三部曲：泛读、精度、总结\n",
    "\n",
    "### 4.1泛读：快速浏览，把握概要\n",
    "\n",
    "读标题，摘要，结论，所有小标题和图表\n",
    "\n",
    "泛读目标：\n",
    "\n",
    "1.论文要解决什么问题？\n",
    "\n",
    "2.论文采用了什么方法？\n",
    "\n",
    "3.论文达到了什么效果？"
   ]
  },
  {
   "cell_type": "markdown",
   "metadata": {},
   "source": [
    "### 4.2精度：选出精华，仔细阅读\n",
    "\n",
    "精度目标及效果自测：所读段落是否详细掌握"
   ]
  },
  {
   "cell_type": "markdown",
   "metadata": {},
   "source": [
    "### 4.3总结\n",
    "\n",
    "总结文中创新点，关键点，启发点等重要信息。\n",
    "\n",
    "论文阅读效果自测\n",
    "\n",
    "回答三个终极问题\n",
    "\n",
    "你是谁:论文提出/采用什么方法，细节是什么\n",
    "\n",
    "从哪里来：论文要解决什么问题/任务，其启发点或借鉴之处在哪\n",
    "\n",
    "到哪里去：论文方法达到什么效果\n",
    "\n",
    "论文中可借鉴地方总结："
   ]
  },
  {
   "cell_type": "markdown",
   "metadata": {},
   "source": [
    "# 5.论文结构\n",
    "![](./论文结构.jpg)"
   ]
  },
  {
   "cell_type": "markdown",
   "metadata": {},
   "source": [
    "论文代码学习\n",
    "\n",
    "![](./代码实现.jpg)"
   ]
  },
  {
   "cell_type": "markdown",
   "metadata": {},
   "source": [
    "# 6.学习途径\n",
    "\n",
    "![](./路径.jpg)"
   ]
  },
  {
   "cell_type": "markdown",
   "metadata": {},
   "source": [
    "## 知识体系\n",
    "\n",
    "![](./知识体系.jpg)"
   ]
  },
  {
   "cell_type": "markdown",
   "metadata": {},
   "source": [
    "## baseline内容\n",
    "![](./baseline.jpg)\n",
    "\n",
    "## 细分专题内容\n",
    "\n",
    "![](./细分专题.jpg)\n"
   ]
  },
  {
   "cell_type": "code",
   "execution_count": null,
   "metadata": {},
   "outputs": [],
   "source": []
  },
  {
   "cell_type": "code",
   "execution_count": null,
   "metadata": {},
   "outputs": [],
   "source": []
  }
 ],
 "metadata": {
  "kernelspec": {
   "display_name": "Python 3",
   "language": "python",
   "name": "python3"
  },
  "language_info": {
   "codemirror_mode": {
    "name": "ipython",
    "version": 3
   },
   "file_extension": ".py",
   "mimetype": "text/x-python",
   "name": "python",
   "nbconvert_exporter": "python",
   "pygments_lexer": "ipython3",
   "version": "3.7.7"
  }
 },
 "nbformat": 4,
 "nbformat_minor": 4
}
