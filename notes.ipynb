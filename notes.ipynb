{
 "cells": [
  {
   "cell_type": "markdown",
   "metadata": {},
   "source": [
    "论文类别：\n",
    "\n",
    "1.综述论文：快速熟悉某领域现状及子方向，了解基础概念，适合入门；\n",
    "\n",
    "2.专题论文：介绍具体算法，设计师路，实验技巧，代码实现等具体技术；\n",
    "\n",
    "进入一个新领域，先阅读综述论文，再读专题论文；\n",
    "\n",
    "\n",
    "论文质量角度：\n",
    "\n",
    "高质量期刊会议：CVPR,ECCV,ICCV,AAAI,NIPS,ICLR,ICML等；\n",
    "\n",
    "高引论文：同行间普遍认可，参考，借鉴的论文；\n",
    "\n",
    "知名团队：YoshuaBengio,YannLeCun，Geoffrey Hinto, Andrew Ng等；\n",
    "\n",
    "有代码复现论文：\"Talk is cheap, Show me the code.\"\n",
    "\n",
    "https://www.paperswithcode.com/\n",
    "\n",
    "如何找论文：\n",
    "\n",
    "1.知网：寻找优秀综述论文，快速入门；\n",
    "\n",
    "2.百度学术，google scholar\n",
    "\n",
    "3.arXiv:论文预印本\n",
    "\n",
    "https://arxiv.org/\n",
    "\n",
    "4.顶会：CVPR, ECCV,ICCV,AAAI,NIPS,ICLR,ICML\n",
    "\n",
    "是否优质看\n",
    "\n",
    "IF(IMPACT fACTOR,影响因子)\n",
    "\n",
    "JCR(Journal Citation Reports）\n",
    "\n",
    "SCI期刊分区：\n",
    "\n",
    "JCR方式（国际通用）：一、二、三、四区各占25%；\n",
    "\n",
    "中科院（国内）：一区(5%),二区(5%~20%)，三区(20%~50%)，四区(50%);\n",
    "\n",
    "\n",
    "\n"
   ]
  },
  {
   "cell_type": "markdown",
   "metadata": {},
   "source": [
    "sci-hub:一个能绕过科研论文收费的神奇网站\n",
    "\n",
    "https://sci-hub.tw\n",
    "\n",
    "https://sci-hub.si\n",
    "\n",
    "https://sci-hub.se\n",
    "\n",
    "PMID:PubMed唯一标识码\n",
    "\n",
    "DOI：数字对象唯一标识吗"
   ]
  },
  {
   "cell_type": "markdown",
   "metadata": {},
   "source": [
    "百度学术 文献互助： http://xueshu.baidu.com"
   ]
  },
  {
   "cell_type": "code",
   "execution_count": null,
   "metadata": {},
   "outputs": [],
   "source": [
    "整理论文：\n",
    "\n",
    "时间-作者-题名   时间-关键字-题名\n",
    "\n"
   ]
  }
 ],
 "metadata": {
  "kernelspec": {
   "display_name": "Python 3",
   "language": "python",
   "name": "python3"
  },
  "language_info": {
   "codemirror_mode": {
    "name": "ipython",
    "version": 3
   },
   "file_extension": ".py",
   "mimetype": "text/x-python",
   "name": "python",
   "nbconvert_exporter": "python",
   "pygments_lexer": "ipython3",
   "version": "3.7.7"
  }
 },
 "nbformat": 4,
 "nbformat_minor": 4
}
