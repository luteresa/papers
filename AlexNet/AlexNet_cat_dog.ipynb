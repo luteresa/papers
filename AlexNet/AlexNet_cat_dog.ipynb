{
 "cells": [
  {
   "cell_type": "markdown",
   "metadata": {},
   "source": [
    "AlexNet预训练模型\n",
    "\n",
    "https://download.pytorch.org/models/alexnet-owt-4df8aa71.pth\n",
    "\n",
    "猫狗数据集\n",
    "\n",
    "https://www.kaggle.com/c/dogs-vs-cats-redux-kernels-edition/data"
   ]
  },
  {
   "cell_type": "markdown",
   "metadata": {},
   "source": [
    "# 关键函数"
   ]
  },
  {
   "cell_type": "markdown",
   "metadata": {},
   "source": [
    "## torch.topk\n",
    "\n",
    "找出最大k的数据，及其索引号\n",
    "\n",
    "input:\n",
    "\n",
    "k:取k个数\n",
    "\n",
    "dim:索引维度\n",
    "\n",
    "返回：\n",
    "\n",
    "Tensor:前k大的值\n",
    "\n",
    "LongTensor:前k大值所在的位置；"
   ]
  },
  {
   "cell_type": "markdown",
   "metadata": {},
   "source": [
    "## FiveCrop，TenCrop\n",
    "\n",
    "transforms.FiveCrop(size)\n",
    "\n",
    "transforms.TenCrop(size,vertical_flip=False)\n",
    "\n",
    "在图像的上下左右及中心裁剪出尺寸为size的五张图片，TenCrop对这5张图片进行水平或者垂直镜像获得10张图片；\n",
    "\n",
    "size:所需裁剪图片尺寸\n",
    "\n",
    "vertical_flip:是否垂直翻转\n"
   ]
  },
  {
   "cell_type": "markdown",
   "metadata": {},
   "source": [
    "## torchvision.utils.make_grid\n",
    "\n",
    "制作网格图像\n",
    "\n",
    "![](./images/src_02_grid.png)"
   ]
  },
  {
   "cell_type": "code",
   "execution_count": null,
   "metadata": {},
   "outputs": [],
   "source": [
    "1.alexnet_inference.py\n",
    "\n",
    "1.模型接受4Dtensor;\n",
    "\n",
    "2.弃用LRN\n",
    "\n",
    "3.增加AdaptiveAvgPool2d\n",
    "\n",
    "4.卷积核数量有所改变"
   ]
  }
 ],
 "metadata": {
  "kernelspec": {
   "display_name": "Python 3",
   "language": "python",
   "name": "python3"
  },
  "language_info": {
   "codemirror_mode": {
    "name": "ipython",
    "version": 3
   },
   "file_extension": ".py",
   "mimetype": "text/x-python",
   "name": "python",
   "nbconvert_exporter": "python",
   "pygments_lexer": "ipython3",
   "version": "3.7.7"
  }
 },
 "nbformat": 4,
 "nbformat_minor": 4
}
